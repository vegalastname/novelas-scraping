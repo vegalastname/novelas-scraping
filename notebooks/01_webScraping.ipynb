{
 "cells": [
  {
   "cell_type": "code",
   "execution_count": 1,
   "id": "24c8df92-ff83-4596-9705-f88eb98620aa",
   "metadata": {},
   "outputs": [
    {
     "name": "stdout",
     "output_type": "stream",
     "text": [
      "Librerías importadas\n"
     ]
    }
   ],
   "source": [
    "import requests\n",
    "from bs4 import BeautifulSoup\n",
    "import nltk\n",
    "from nltk.corpus import stopwords\n",
    "from nltk.tokenize import word_tokenize\n",
    "from wordcloud import WordCloud\n",
    "import matplotlib.pyplot as plt\n",
    "\n",
    "print(\"Librerías importadas\")"
   ]
  },
  {
   "cell_type": "code",
   "execution_count": 2,
   "id": "bb513d10-e5c0-4e3c-bacb-a60ed866bf5a",
   "metadata": {},
   "outputs": [
    {
     "name": "stdout",
     "output_type": "stream",
     "text": [
      "Éxito\n"
     ]
    },
    {
     "name": "stderr",
     "output_type": "stream",
     "text": [
      "[nltk_data] Downloading package punkt to /root/nltk_data...\n",
      "[nltk_data]   Package punkt is already up-to-date!\n",
      "[nltk_data] Downloading package stopwords to /root/nltk_data...\n",
      "[nltk_data]   Package stopwords is already up-to-date!\n",
      "[nltk_data] Downloading package punkt_tab to /root/nltk_data...\n",
      "[nltk_data]   Package punkt_tab is already up-to-date!\n"
     ]
    }
   ],
   "source": [
    "nltk.download('punkt')\n",
    "nltk.download('stopwords')\n",
    "nltk.download('punkt_tab')\n",
    "\n",
    "print(\"Éxito\")"
   ]
  },
  {
   "cell_type": "code",
   "execution_count": 3,
   "id": "66504880-e2a7-4b49-9c59-42e229453675",
   "metadata": {},
   "outputs": [],
   "source": [
    "# URL de Moby Dick en Project Gutenberg\n",
    "url = \"https://www.gutenberg.org/files/2701/2701-0.txt\"\n",
    "response = requests.get(url)\n",
    "soup = BeautifulSoup(response.text, 'html.parser')\n",
    "text = soup.get_text()"
   ]
  },
  {
   "cell_type": "code",
   "execution_count": 4,
   "id": "e6d72dab-a9bd-4f37-a790-0a73ba97e12d",
   "metadata": {},
   "outputs": [],
   "source": [
    "# Tokenización y limpieza\n",
    "tokens = word_tokenize(text.lower())\n",
    "stop_words = set(stopwords.words('english'))\n",
    "clean_tokens = [word for word in tokens if word.isalpha() and word not in stop_words]\n",
    "\n",
    "# Contar frecuencias\n",
    "from collections import Counter\n",
    "word_freq = Counter(clean_tokens)\n",
    "top_words = word_freq.most_common(20)  # Top 20 palabras"
   ]
  },
  {
   "cell_type": "code",
   "execution_count": 6,
   "id": "89069d8f-3bab-416a-b11f-75050f27a379",
   "metadata": {},
   "outputs": [
    {
     "name": "stdout",
     "output_type": "stream",
     "text": [
      "Nube de palabras guardada en /output/wordcloud.png\n"
     ]
    }
   ],
   "source": [
    "# Crear nube de palabras\n",
    "wordcloud = WordCloud(width=800, height=400, background_color='white').generate_from_frequencies(dict(word_freq))\n",
    "\n",
    "# Mostrar y guardar\n",
    "plt.figure(figsize=(10, 5))\n",
    "plt.imshow(wordcloud, interpolation='bilinear')\n",
    "plt.axis('off')\n",
    "plt.savefig('./output/wordcloud.png')\n",
    "plt.close()  # Cierra la figura para evitar mostrarla en Jupyter sin GUI\n",
    "print(\"Nube de palabras guardada en /output/wordcloud.png\")"
   ]
  },
  {
   "cell_type": "code",
   "execution_count": 7,
   "id": "6e4d26f3-874e-47bf-bfb0-2e7c7d319dea",
   "metadata": {},
   "outputs": [
    {
     "name": "stdout",
     "output_type": "stream",
     "text": [
      "Diversidad léxica: 0.16\n"
     ]
    }
   ],
   "source": [
    "unique_words = len(set(clean_tokens))\n",
    "total_words = len(clean_tokens)\n",
    "lexical_diversity = unique_words / total_words\n",
    "print(f\"Diversidad léxica: {lexical_diversity:.2f}\")"
   ]
  },
  {
   "cell_type": "code",
   "execution_count": null,
   "id": "8afa4bf4-c58f-4043-bb16-b30f1c1a614d",
   "metadata": {},
   "outputs": [],
   "source": []
  }
 ],
 "metadata": {
  "kernelspec": {
   "display_name": "Python 3 (ipykernel)",
   "language": "python",
   "name": "python3"
  },
  "language_info": {
   "codemirror_mode": {
    "name": "ipython",
    "version": 3
   },
   "file_extension": ".py",
   "mimetype": "text/x-python",
   "name": "python",
   "nbconvert_exporter": "python",
   "pygments_lexer": "ipython3",
   "version": "3.12.11"
  }
 },
 "nbformat": 4,
 "nbformat_minor": 5
}
